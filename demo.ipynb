{
 "cells": [
  {
   "cell_type": "code",
   "execution_count": 1,
   "metadata": {},
   "outputs": [],
   "source": [
    "import pandas as pd\n",
    "from manictime_loader import ManicTimeLoader\n",
    "\n",
    "mt = ManicTimeLoader()\n",
    "\n",
    "df_doc = mt.read_db(\"Documents\")\n",
    "df_app = mt.read_db(\"Applications\")\n",
    "df_com = mt.read_db(\"ComputerUsage\")"
   ]
  }
 ],
 "metadata": {
  "interpreter": {
   "hash": "1d5e3ebe0e82c8afc0512d51fa842e395e543f06d098c92d7af3f88dcd87a800"
  },
  "kernelspec": {
   "display_name": "Python 3.8.5 ('mlflow_env')",
   "language": "python",
   "name": "python3"
  },
  "language_info": {
   "codemirror_mode": {
    "name": "ipython",
    "version": 3
   },
   "file_extension": ".py",
   "mimetype": "text/x-python",
   "name": "python",
   "nbconvert_exporter": "python",
   "pygments_lexer": "ipython3",
   "version": "3.8.5"
  },
  "orig_nbformat": 4
 },
 "nbformat": 4,
 "nbformat_minor": 2
}
